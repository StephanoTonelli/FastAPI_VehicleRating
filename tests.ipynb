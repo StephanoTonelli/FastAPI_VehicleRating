{
 "cells": [
  {
   "cell_type": "markdown",
   "id": "8d7841a6",
   "metadata": {},
   "source": [
    "File Created just to better understand pandas dataframe structure"
   ]
  },
  {
   "cell_type": "code",
   "execution_count": 21,
   "id": "357dfca3",
   "metadata": {},
   "outputs": [
    {
     "name": "stdout",
     "output_type": "stream",
     "text": [
      "Scoring Variables Loaded:\n",
      "            variable  Toyota_Camry  Honda_Civic  Ford_F150\n",
      "0         age_weight         1.700        1.600      2.000\n",
      "1      mileage_bonus         0.015        0.012      0.008\n",
      "2  engine_size_bonus         0.100        0.050      0.200\n",
      "\n",
      "Scoring Variables for Toyota_Camry:\n",
      "variable\n",
      "age_weight           1.700\n",
      "mileage_bonus        0.015\n",
      "engine_size_bonus    0.100\n",
      "Name: Toyota_Camry, dtype: float64\n",
      "\n",
      "\n",
      "Age Weight: 5\n",
      "\n",
      "Age Contribution: 5 * 1.7 = 8.5\n",
      "Mileage Contribution: (100000 - 10000.0) * 0.015 = 1350.0\n",
      "Engine Size Contribution: 2.5 * 0.1 = 0.25\n",
      "\n",
      "Final Score: 1358.75\n"
     ]
    },
    {
     "name": "stderr",
     "output_type": "stream",
     "text": [
      "C:\\Users\\steph\\AppData\\Local\\Temp\\ipykernel_46852\\3955190118.py:48: DeprecationWarning: datetime.datetime.utcnow() is deprecated and scheduled for removal in a future version. Use timezone-aware objects to represent datetimes in UTC: datetime.datetime.now(datetime.UTC).\n",
      "  age = datetime.utcnow().year - v.year\n"
     ]
    }
   ],
   "source": [
    "import pandas as pd\n",
    "import os\n",
    "from fastapi import HTTPException\n",
    "from datetime import datetime\n",
    "from pydantic import BaseModel\n",
    "from typing import List, Optional\n",
    "\n",
    "class VehicleData(BaseModel):\n",
    "    make: str\n",
    "    model: str\n",
    "    year: int\n",
    "    mileage: Optional[float] = None\n",
    "    engine_size: Optional[float] = None\n",
    "\n",
    "# Path to the scoring variables CSV\n",
    "SCORING_VARIABLES_FILE = \"app/data/scoring_variables.csv\"  # Use forward slashes (cross-platform)\n",
    "\n",
    "# Load the scoring variables CSV into a DataFrame\n",
    "try:\n",
    "    scoring_variables_df = pd.read_csv(SCORING_VARIABLES_FILE)\n",
    "    print(f\"Scoring Variables Loaded:\\n{scoring_variables_df}\")\n",
    "except Exception as e:\n",
    "    print(f\"Error loading scoring variables: {e}\")\n",
    "    scoring_variables_df = None\n",
    "\n",
    "def calculate_score_from_data(v: VehicleData) -> float:\n",
    "    \"\"\"\n",
    "    Calculate the score for a vehicle based on dynamic scoring variables loaded from CSV.\n",
    "    \"\"\"\n",
    "    if scoring_variables_df is None:\n",
    "        raise HTTPException(status_code=500, detail=\"Scoring variables not loaded.\")\n",
    "\n",
    "    make_model_key = f\"{v.make}_{v.model}\".replace(\" \", \"_\")\n",
    "\n",
    "    if make_model_key not in scoring_variables_df.columns:\n",
    "        raise HTTPException(\n",
    "            status_code=422,\n",
    "            detail=f\"Scoring rules not found for make/model: {make_model_key}\"\n",
    "        )\n",
    "\n",
    "    variables = scoring_variables_df.set_index(\"variable\")[make_model_key]\n",
    "    print(f\"\\nScoring Variables for {make_model_key}:\\n{variables}\\n\")\n",
    "\n",
    "    total_score = 0.0\n",
    "\n",
    "    # Age-based score\n",
    "    age_weight = float(variables[\"age_weight\"])\n",
    "    age = datetime.utcnow().year - v.year\n",
    "    print(f\"\\nAge Weight: {age}\\n\") # Debug print to check age weight\n",
    "    total_score += max(0, age) * age_weight\n",
    "    print(f\"Age Contribution: {max(0, age)} * {age_weight} = {max(0, age) * age_weight}\")\n",
    "\n",
    "    # Mileage-based score\n",
    "    if v.mileage is not None:\n",
    "        mileage_bonus = float(variables[\"mileage_bonus\"])\n",
    "        mileage_contribution = (100_000 - v.mileage) * mileage_bonus\n",
    "        total_score += mileage_contribution\n",
    "        print(f\"Mileage Contribution: (100000 - {v.mileage}) * {mileage_bonus} = {mileage_contribution}\")\n",
    "\n",
    "    # Engine size-based score\n",
    "    if v.engine_size is not None:\n",
    "        engine_size_bonus = float(variables[\"engine_size_bonus\"])\n",
    "        engine_size_contribution = v.engine_size * engine_size_bonus\n",
    "        total_score += engine_size_contribution\n",
    "        print(f\"Engine Size Contribution: {v.engine_size} * {engine_size_bonus} = {engine_size_contribution}\")\n",
    "\n",
    "    return round(total_score, 2)\n",
    "\n",
    "# Test the function with a sample vehicle\n",
    "vehicle = VehicleData(make=\"Toyota\", model=\"Camry\", year=2020, mileage=10000, engine_size=2.5)\n",
    "score = calculate_score_from_data(vehicle)\n",
    "\n",
    "print(f\"\\nFinal Score: {score}\")\n"
   ]
  }
 ],
 "metadata": {
  "kernelspec": {
   "display_name": "env",
   "language": "python",
   "name": "python3"
  },
  "language_info": {
   "codemirror_mode": {
    "name": "ipython",
    "version": 3
   },
   "file_extension": ".py",
   "mimetype": "text/x-python",
   "name": "python",
   "nbconvert_exporter": "python",
   "pygments_lexer": "ipython3",
   "version": "3.12.0"
  }
 },
 "nbformat": 4,
 "nbformat_minor": 5
}
